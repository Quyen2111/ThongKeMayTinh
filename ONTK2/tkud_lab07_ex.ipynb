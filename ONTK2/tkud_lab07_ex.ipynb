{
 "cells": [
  {
   "cell_type": "markdown",
   "metadata": {},
   "source": [
    "# Lab 07 - Bài tập"
   ]
  },
  {
   "cell_type": "markdown",
   "metadata": {},
   "source": [
    "## Luyện tập"
   ]
  },
  {
   "cell_type": "markdown",
   "metadata": {},
   "source": [
    "### Bài 1\n",
    "\n",
    "Trong thập niên 80, trọng lượng trung bình của thanh niên là 48 kg. Nay để xác định lại trọng lượng ấy, người ta chọn ngẫu nhiên 100 thanh niên đo trọng lượng trung bình là 50 kg và phương sai mẫu $s^2 = (10 kg)^2$. Thử xem trọng lượng thanh niên hiện nay phải chăng có thay đổi, với mức ý nghĩa là 1%?\n",
    "\n",
    "   _Đáp án. Trọng lượng thanh niên hiện nay không thay đổi so với trước kia._"
   ]
  },
  {
   "cell_type": "code",
   "execution_count": 1,
   "metadata": {},
   "outputs": [],
   "source": [
    "# Import các thư viện thông dụng\n",
    "import numpy as np\n",
    "import pandas as pd\n",
    "import matplotlib.pyplot as plt\n",
    "\n",
    "# Import các distribution packages từ thư viện scipy\n",
    "from scipy.stats import binom\n",
    "from scipy.stats import poisson\n",
    "from scipy.stats import norm\n",
    "from scipy.stats import t"
   ]
  },
  {
   "cell_type": "markdown",
   "metadata": {},
   "source": [
    "1. Giả thuyết <br>\n",
    "Giả thuyết gốc 𝐻0:𝜇=48(trọng lượng trung bình của thanh niên ). <br>\n",
    "Giả thuyết đối: 𝐻1:𝜇≠48 rọng lượng trung bình của thanh niên hiện nay có sự thay đổi so với thập niên 80. <br>\n",
    "2. Thông tin đã cho <br>\n",
    "Trung bình mẫu (𝑥ˉ) = 50 kg <br>\n",
    "Phương sai mẫu 𝑠^2=(10 kg)^2⇒𝑠=10 <br>\n",
    "Kích thước mẫu 𝑛=100 <br>\n",
    "Mức ý nghĩa 𝛼=0.01 <br>\n",
    "Sai số chuẩn mẫu (SE) = $\\frac{s}{\\sqrt{n}}$ = 10/100 = 1\n",
    "\n",
    "\n",
    "Vì 𝑛=100 đủ lớn (n > 30), ta có thể sử dụng kiểm định z. Công thức tính z như sau:\n",
    "$$z = \\frac{\\bar{X} - \\mu_0}{SE}$$"
   ]
  },
  {
   "cell_type": "code",
   "execution_count": null,
   "metadata": {},
   "outputs": [
    {
     "name": "stdout",
     "output_type": "stream",
     "text": [
      "Giá trị z: 2.0000\n",
      "Giá trị p: 0.0455\n",
      "Không bác bỏ giả thuyết gốc: Không có đủ bằng chứng để kết luận trọng lượng thanh niên thay đổi.\n"
     ]
    }
   ],
   "source": [
    "x_bar = 50  \n",
    "mu_0 = 48  \n",
    "std = 10  \n",
    "mau = 100  \n",
    "alpha = 0.01  \n",
    "\n",
    "# Tính giá trị z\n",
    "z = (x_bar - mu_0) / (std / np.sqrt(mau))\n",
    "\n",
    "# Tính giá trị p\n",
    "p_value = 2 * (1 - norm.cdf(abs(z)))  \n",
    "\n",
    "print(f\"Giá trị z: {z:.4f}\")\n",
    "print(f\"Giá trị p: {p_value:.4f}\")\n",
    "\n",
    "# Quyết định kiểm định\n",
    "if p_value <= alpha:\n",
    "    print(\"Bác bỏ giả thuyết gốc: Trọng lượng thanh niên hiện nay có sự thay đổi.\")\n",
    "else:\n",
    "    print(\"Không bác bỏ giả thuyết gốc: Không có đủ bằng chứng để kết luận trọng lượng thanh niên thay đổi.\")\n",
    "\n",
    "# Kết quả:\n",
    "#𝑝-value=0.0455 lớn hơn mức ý nghĩa α=0.01,\n",
    "#ta không bác bỏ giả thuyết gốc, nghĩa là không có đủ bằng chứng để kết luận rằng trọng lượng thanh niên hiện nay đã thay đổi so với thập niên 80."
   ]
  },
  {
   "cell_type": "markdown",
   "metadata": {},
   "source": [
    "### Bài 2\n",
    "\n",
    "Một cửa hàng thực phẩm nhận thấy thời gian vừa qua trung bình một khách hàng mua 25 ngàn đồng thực phẩm trong ngày. Nay cửa hàng chọn ngẫu nhiên 15 khách hàng thấy trung bình một khách hàng mua 24 ngàn đồng trong ngày và phương sai mẫu là $s^2$ =  (2 ngàn đồng $)^2$\n",
    "\n",
    "   Với mức ý nghĩa là 5%, kiểm định xem có phải sức mua của khách hàng hiện nay thực sự giảm sút hay không. Biết rằng sức mua của khách hàng có phân phối chuẩn.\n",
    "\n",
    "   _Đáp án. Sức mua của khách hàng hiện nay thực sự giảm sút_"
   ]
  },
  {
   "cell_type": "markdown",
   "metadata": {},
   "source": [
    "1. Giả thuyết\n",
    "Giả thuyết gốc  𝐻0:𝜇 = 25 (Sức mua trung bình của khách hàng hiện nay không thay đổi, vẫn là 25 ngàn đồng).\n",
    "Giả thuyết đối: 𝐻𝑎:𝜇 < 48  (Sức mua trung bình của khách hàng hiện nay giảm sút so với 25 ngàn đồng).\n",
    "2. Thông tin đã cho\n",
    "Trung bình mẫu (𝑥ˉ) = 24 ngàn đồng\n",
    "\n",
    "Phương sai mẫu 𝑠^2=(2 ngàn)^2 ⇒ 𝑠 = 2 ngàn \n",
    "\n",
    "Kích thước mẫu 𝑛=15\n",
    "\n",
    "Mức ý nghĩa 𝛼=0.05\n",
    "3. tính z\n",
    "4. tính p\n",
    " Sau khi tính toán giá trị z, ta sẽ tìm giá trị p từ phân phối chuẩn. So sánh giá trị p với mức ý nghĩa 𝛼= 0.05  Nếu 𝑝≤𝛼 bác bỏ giả thuyết gốc."
   ]
  },
  {
   "cell_type": "code",
   "execution_count": 3,
   "metadata": {},
   "outputs": [
    {
     "name": "stdout",
     "output_type": "stream",
     "text": [
      "Giá trị t: -1.9365\n",
      "Giá trị p: 0.0366\n",
      "Bác bỏ giả thuyết gốc: Sức mua của khách hàng hiện nay thực sự giảm sút.\n"
     ]
    }
   ],
   "source": [
    "x_bar = 24  # Trung bình mẫu\n",
    "mu_0 = 25  # Sức mua trung bình theo giả thuyết gốc\n",
    "s = 2  # Độ lệch chuẩn mẫu\n",
    "n = 15  # Cỡ mẫu\n",
    "alpha = 0.05  # Mức ý nghĩa\n",
    "\n",
    "# Tính giá trị t\n",
    "t_stat = (x_bar - mu_0) / (s / np.sqrt(n))\n",
    "\n",
    "# Tính giá trị p\n",
    "p_value = t.cdf(t_stat, df=n-1)  # Kiểm định 1 phía\n",
    "\n",
    "# In kết quả\n",
    "print(f\"Giá trị t: {t_stat:.4f}\")\n",
    "print(f\"Giá trị p: {p_value:.4f}\")\n",
    "\n",
    "# Quyết định kiểm định\n",
    "if p_value <= alpha:\n",
    "    print(\"Bác bỏ giả thuyết gốc: Sức mua của khách hàng hiện nay thực sự giảm sút.\")\n",
    "else:\n",
    "    print(\"Không bác bỏ giả thuyết gốc: Không có đủ bằng chứng để khẳng định sức mua giảm sút.\")"
   ]
  },
  {
   "cell_type": "markdown",
   "metadata": {},
   "source": [
    "### Bài 3\n",
    "\n",
    "Một máy sản suất tự động, lúc đầu tỷ lệ sản phẩm loại A là 20%. Sau khi áp dụng một phương pháp cải tiến sản xuất mới, người ta lấy 40 mẫu, mỗi mẫu gồm 10 sản phẩm đề kiểm tra. Kết quả kiểm tra cho ở bảng sau:\n",
    "\n",
    "| **Số sản phẩm loại A** |  1   |  2   |  3   |  4   |  5   |  6   |  7   |  8   |  9   |  10  |\n",
    "| ---------------------- | :--: | :--: | :--: | :--: | :--: | :--: | :--: | :--: | :--: | :--: |\n",
    "| **Số mẫu**             |  2   |  0   |  4   |  6   |  8   |  10  |  4   |  5   |  1   |  0   |\n",
    "\n",
    " Với mức ý nghĩa 5%. Hãy cho kết luận về phương pháp sản suất này. \n",
    "\n",
    " _Đáp án.Phương pháp cải tiến sản xuất mới thay đổi tỉ lệ sản phẩm loại A_"
   ]
  },
  {
   "cell_type": "markdown",
   "metadata": {},
   "source": [
    "1. Giả thuyết\n",
    "Giả thuyết gốc  𝐻0: p = 0.2 (Tỷ lệ sản phẩm loại A là 20%, không thay đổi sau khi cải tiến).\n",
    "Giả thuyết đối: 𝐻𝑎: p ≠ 0.20  (Tỷ lệ sản phẩm loại A là 20%, không thay đổi sau khi cải tiến).\n",
    "2. Thông tin đã cho\n",
    "Tỷ lệ sản phẩm loại A ban đầu là 20%.\n",
    "Số sản phẩm loại A trong mỗi mẫu được trình bày trong bảng dưới đây.\n",
    "3. Tính thống kê kiểm định\n",
    "4. tính p\n",
    "Nếu p-value ≤ 0.05, bác bỏ giả thuyết gốc và kết luận rằng phương pháp cải tiến sản xuất đã thay đổi tỷ lệ sản phẩm loại A.\n",
    "Nếu p-value > 0.05, không bác bỏ giả thuyết gốc."
   ]
  },
  {
   "cell_type": "code",
   "execution_count": 19,
   "metadata": {},
   "outputs": [
    {
     "name": "stdout",
     "output_type": "stream",
     "text": [
      "Tần suất mong đợi:  [np.float64(4.294967296000002), np.float64(10.737418239999998), np.float64(12.079595520000002), np.float64(8.053063679999998), np.float64(3.523215359999996), np.float64(1.0569646079999995), np.float64(0.22020096000000017), np.float64(0.03145728000000001), np.float64(0.0029491200000000004), np.float64(0.00016383999999999987), np.float64(4.0960000000000045e-06)]\n",
      "Lỗi: Tổng số quan sát không khớp với tổng số mong đợi.\n"
     ]
    }
   ],
   "source": [
    "import numpy as np\n",
    "from scipy.stats import binom, chisquare\n",
    "\n",
    "# Dữ liệu từ bảng\n",
    "observed = [2, 0, 4, 6, 8, 10, 4, 5, 1, 0]  # Số mẫu ứng với số sản phẩm loại A (có 10 giá trị)\n",
    "\n",
    "# Tổng số mẫu và số sản phẩm trong mỗi mẫu\n",
    "n_samples = 40\n",
    "n_products_per_sample = 10\n",
    "\n",
    "# Xác suất sản phẩm loại A theo giả thuyết gốc\n",
    "p = 0.20\n",
    "\n",
    "# Tính tần suất mong đợi từ phân phối nhị thức (sửa lại từ 0 đến 10 sản phẩm loại A)\n",
    "expected_probs = [binom.pmf(k, n_products_per_sample, p) for k in range(11)]  # Lấy 11 khả năng từ 0 đến 10\n",
    "expected = [n_samples * prob for prob in expected_probs]  # Tính tần suất mong đợi cho mỗi số sản phẩm loại A\n",
    "\n",
    "# In các tần suất mong đợi để kiểm tra\n",
    "print(\"Tần suất mong đợi: \", expected)\n",
    "\n",
    "# Kiểm tra nếu tần suất quan sát và tần suất mong đợi có cùng tổng số\n",
    "if np.sum(observed) != np.sum(expected):\n",
    "    print(\"Lỗi: Tổng số quan sát không khớp với tổng số mong đợi.\")\n",
    "else:\n",
    "    # Tính kiểm định chi-square\n",
    "    chi2_stat, p_value = chisquare(observed, expected)\n",
    "\n",
    "    # In kết quả\n",
    "    print(f\"Giá trị chi-square: {chi2_stat:.4f}\")\n",
    "    print(f\"Giá trị p: {p_value:.4f}\")\n",
    "\n",
    "    # Quyết định kiểm định\n",
    "    if p_value <= 0.05:\n",
    "        print(\"Bác bỏ giả thuyết gốc: Phương pháp cải tiến sản xuất mới thay đổi tỷ lệ sản phẩm loại A.\")\n",
    "    else:\n",
    "        print(\"Không bác bỏ giả thuyết gốc: Không có đủ bằng chứng để khẳng định phương pháp cải tiến sản xuất thay đổi tỷ lệ sản phẩm loại A.\")\n"
   ]
  },
  {
   "cell_type": "markdown",
   "metadata": {},
   "source": [
    "### Bài 4\n",
    "\n",
    "Tỷ lệ phế phẩm của một nhà máy trước đây là 5%. Năm nay nhà máy áp dụng một biện pháp kỹ thuật mới. Để nghiên cứu tác dụng của biện pháp kỹ thuật mới, người ta lấy một mẫu gồm 800 sản phẩm để kiểm tra và thấy có 24 phế phẩm.\n",
    "\n",
    "a. Với α = 0.01. Hãy cho kết luận về biện pháp kỹ thuật mới này?\n",
    "\n",
    "b. Nếu nhà máy báo cáo tỷ lệ phế phẩm sau khi áp dụng biện pháp kỹ thuật mới là\n",
    "2% thì có chấp nhận được không? (α = 0.01).\n",
    "\n",
    "_Đáp án. (a) Biện pháp kĩ thuật mới làm thay đổi tỉ lệ phế phẩm (b) Nhà máy báo cáo tỷ lệ phế phẩm là chấp nhận được._"
   ]
  },
  {
   "cell_type": "code",
   "execution_count": 20,
   "metadata": {},
   "outputs": [
    {
     "name": "stdout",
     "output_type": "stream",
     "text": [
      "Giá trị z: -2.5955\n",
      "Giá trị tới hạn: ±2.5758\n",
      "Bác bỏ giả thuyết gốc: Biện pháp kỹ thuật mới làm thay đổi tỷ lệ phế phẩm.\n",
      "Giá trị z (câu b): -3.8933\n",
      "Bác bỏ giả thuyết gốc: Tỷ lệ phế phẩm không phải 5%.\n"
     ]
    }
   ],
   "source": [
    "# Câu a\n",
    "n = 800  # kích cỡ mẫu\n",
    "X = 24   # số phế phẩm trong mẫu\n",
    "p_hat = X / n  # tỷ lệ phế phẩm quan sát được\n",
    "p_0 = 0.05  # tỷ lệ phế phẩm theo giả thuyết gốc\n",
    "alpha = 0.01  # mức ý nghĩa\n",
    "\n",
    "# Tính toán giá trị z\n",
    "z = (p_hat - p_0) / np.sqrt(p_0 * (1 - p_0) / n)\n",
    "\n",
    "# Tính giá trị tới hạn từ bảng z cho mức ý nghĩa 0.01\n",
    "z_critical = norm.ppf(1 - alpha / 2)  # z_critical cho kiểm định hai phía\n",
    "\n",
    "# In kết quả\n",
    "print(f\"Giá trị z: {z:.4f}\")\n",
    "print(f\"Giá trị tới hạn: ±{z_critical:.4f}\")\n",
    "\n",
    "# Kiểm định\n",
    "if abs(z) > z_critical:\n",
    "    print(\"Bác bỏ giả thuyết gốc: Biện pháp kỹ thuật mới làm thay đổi tỷ lệ phế phẩm.\")\n",
    "else:\n",
    "    print(\"Không bác bỏ giả thuyết gốc: Không có đủ bằng chứng để khẳng định biện pháp kỹ thuật mới làm thay đổi tỷ lệ phế phẩm.\")\n",
    "\n",
    "# Câu b: Kiểm định với tỷ lệ phế phẩm báo cáo là 2%\n",
    "p_hat_b = 0.02  # tỷ lệ phế phẩm báo cáo\n",
    "z_b = (p_hat_b - p_0) / np.sqrt(p_0 * (1 - p_0) / n)\n",
    "\n",
    "# In kết quả câu b\n",
    "print(f\"Giá trị z (câu b): {z_b:.4f}\")\n",
    "if abs(z_b) > z_critical:\n",
    "    print(\"Bác bỏ giả thuyết gốc: Tỷ lệ phế phẩm không phải 5%.\")\n",
    "else:\n",
    "    print(\"Không bác bỏ giả thuyết gốc: Tỷ lệ phế phẩm vẫn có thể là 5%.\")"
   ]
  },
  {
   "cell_type": "markdown",
   "metadata": {},
   "source": [
    "## Kiểm định đặc trưng tỉ lệ (p)"
   ]
  },
  {
   "cell_type": "markdown",
   "metadata": {},
   "source": [
    "### Bài 5\n",
    "\n",
    "Dataset 18 (__M&M__) chứa thông tin trọng lượng và màu sắc của mẫu các viên kẹo của hãng M&M. \n",
    "\n",
    "Sử dụng mẫu trên bạn hãy kiểm tra phát biểu sau: __\"20% kẹo M&M có màu đỏ\"__ với mức ý nghĩa là 5%\n",
    "\n",
    "*Hướng dẫn: tính tỷ lệ các viên kẹo có màu đỏ từ dữ liệu, sử dụng kết quả để kiểm định phát biểu trên*"
   ]
  },
  {
   "cell_type": "code",
   "execution_count": null,
   "metadata": {},
   "outputs": [
    {
     "name": "stdout",
     "output_type": "stream",
     "text": [
      "Tỷ lệ kẹo màu đỏ trong mẫu: 0.8635\n",
      "Giá trị z: 8.6196\n",
      "Giá trị tới hạn z: ±1.9600\n",
      "Bác bỏ giả thuyết gốc: Tỷ lệ kẹo màu đỏ không phải 20%.\n"
     ]
    }
   ],
   "source": [
    "df = pd.read_excel('18_M_M.xls')  \n",
    "\n",
    "\n",
    "candy_colors = df['Red'] \n",
    "\n",
    "# Bước 1: Tính tỷ lệ kẹo màu đỏ trong mẫu\n",
    "p_hat = np.mean(candy_colors)  # Tỷ lệ kẹo màu đỏ trong mẫu\n",
    "\n",
    "# Giả thuyết gốc: tỷ lệ kỳ vọng là 20% (p_0 = 0.20)\n",
    "p_0 = 0.20\n",
    "\n",
    "# Bước 2: Tính giá trị z\n",
    "n = len(candy_colors)  # Kích thước mẫu\n",
    "z = (p_hat - p_0) / np.sqrt(p_0 * (1 - p_0) / n)\n",
    "\n",
    "# Bước 3: Tính giá trị tới hạn từ bảng z cho mức ý nghĩa 0.05 (alpha/2 = 0.025)\n",
    "z_critical = norm.ppf(1 - 0.025)  # Kiểm định hai phía\n",
    "\n",
    "# In kết quả\n",
    "print(f\"Tỷ lệ kẹo màu đỏ trong mẫu: {p_hat:.4f}\")\n",
    "print(f\"Giá trị z: {z:.4f}\")\n",
    "print(f\"Giá trị tới hạn z: ±{z_critical:.4f}\")\n",
    "\n",
    "# Bước 4: Quyết định kiểm định\n",
    "if abs(z) > z_critical:\n",
    "    print(\"Bác bỏ giả thuyết gốc: Tỷ lệ kẹo màu đỏ không phải 20%.\")\n",
    "else:\n",
    "    print(\"Không bác bỏ giả thuyết gốc: Tỷ lệ kẹo màu đỏ có thể là 20%.\")"
   ]
  },
  {
   "cell_type": "markdown",
   "metadata": {},
   "source": [
    "### Bài 6\n",
    "\n",
    "Dataset 3 (__FRESH15__) chứa thông tin khảo sát những thay đổi về trọng lượng (weight - WT) và chỉ số khối của cơ thể (BMI) của sinh viên năm nhất tại một trường Đại Học. Thời điểm khảo sát là bắt đầu học kỳ (tháng 9 - SEP) và kết thúc học kỳ (tháng 4 - APR), các sinh viên được chọn ngẫu nhiên trong trường.\n",
    "\n",
    "Sử dụng mẫu trên, hãy kiểm tra phát biểu:__\"50% số sinh viên trong trường là nam\"__ với mức ý nghĩa 50%\n",
    "\n",
    "Các thuộc tính trong bộ dữ liệu:\n",
    "- SEX: Giới tính\n",
    "- WTSEP: trọng lượng đo vào tháng 9 (mới nhập học)\n",
    "- WTAPR: trọng lượng đo vào tháng 4 (kết thúc năm học)\n",
    "- BMISP: BMI tháng 9\n",
    "- BMIAP: BMI tháng 4"
   ]
  },
  {
   "cell_type": "code",
   "execution_count": 28,
   "metadata": {},
   "outputs": [
    {
     "name": "stdout",
     "output_type": "stream",
     "text": [
      "Tỷ lệ sinh viên nam trong mẫu: 0.4776\n",
      "Giá trị z: -0.3665\n",
      "Giá trị tới hạn z: ±1.9600\n",
      "Không bác bỏ giả thuyết gốc: Tỷ lệ sinh viên nam có thể là 50%.\n"
     ]
    }
   ],
   "source": [
    "df = pd.read_excel('03_FRESH15.xls')  \n",
    "# Bước 1: Tính tỷ lệ sinh viên nam trong mẫu\n",
    "n = len(df)  # Kích thước mẫu\n",
    "X = (df['SEX'] == 'M').sum()  # Số sinh viên nam trong mẫu\n",
    "p_hat = X / n  # Tỷ lệ sinh viên nam trong mẫu\n",
    "\n",
    "# Giả thuyết gốc: tỷ lệ kỳ vọng là 50% (p_0 = 0.50)\n",
    "p_0 = 0.50\n",
    "\n",
    "# Bước 2: Tính giá trị z\n",
    "z = (p_hat - p_0) / np.sqrt(p_0 * (1 - p_0) / n)\n",
    "\n",
    "# Bước 3: Tính giá trị tới hạn từ bảng z cho mức ý nghĩa 0.05 (alpha/2 = 0.025)\n",
    "z_critical = norm.ppf(1 - 0.025)  # Kiểm định hai phía\n",
    "\n",
    "# In kết quả\n",
    "print(f\"Tỷ lệ sinh viên nam trong mẫu: {p_hat:.4f}\")\n",
    "print(f\"Giá trị z: {z:.4f}\")\n",
    "print(f\"Giá trị tới hạn z: ±{z_critical:.4f}\")\n",
    "\n",
    "# Bước 4: Quyết định kiểm định\n",
    "if abs(z) > z_critical:\n",
    "    print(\"Bác bỏ giả thuyết gốc: Tỷ lệ sinh viên nam không phải 50%.\")\n",
    "else:\n",
    "    print(\"Không bác bỏ giả thuyết gốc: Tỷ lệ sinh viên nam có thể là 50%.\")"
   ]
  },
  {
   "cell_type": "markdown",
   "metadata": {},
   "source": [
    "## Kiểm định đặc trưng kỳ vọng ($\\mu$) biết ($\\sigma$)"
   ]
  },
  {
   "cell_type": "markdown",
   "metadata": {},
   "source": [
    "### Bài 7\n",
    "\n",
    "Dataset 13 __(VOLTAGE)__ liệt kê các mức điện áp được đo tại các hộ gia đình bởi các máy đo khác nhau: tại nhà (HOME), tại máy phát độc lập (Generator), tại trạm phát (UPS).\n",
    "\n",
    "Công ty cung cấp điện cho vùng này cam kết rằng: __\"Mục tiêu cung cấp điện cho mỗi hộ gia đình là 120V\"__ . Biết rằng độ lệch chuẩn của tất cả các mức điện áp đo được là 0.24V.\n",
    "\n",
    "Với mức ý nghĩa 1%. Bạn hãy kiểm tra xem công ty có làm đúng cam kết hay không?"
   ]
  },
  {
   "cell_type": "code",
   "execution_count": 30,
   "metadata": {},
   "outputs": [
    {
     "name": "stdout",
     "output_type": "stream",
     "text": [
      "Trung bình điện áp tại các hộ gia đình: 123.6625V\n",
      "Giá trị z: 96.5153\n",
      "Giá trị tới hạn z: ±2.5758\n",
      "Bác bỏ giả thuyết gốc: Mức điện áp tại các hộ gia đình không phải 120V.\n"
     ]
    }
   ],
   "source": [
    "df = pd.read_excel('13_VOLTAGE.xls')  \n",
    "# Bước 1: Tính giá trị trung bình của điện áp tại các hộ gia đình\n",
    "n = len(df)  # Kích thước mẫu\n",
    "mean_home = df['Home'].mean()  # Trung bình điện áp tại các hộ gia đình\n",
    "\n",
    "# Giả thuyết gốc: mức điện áp kỳ vọng là 120V (mu_0 = 120)\n",
    "mu_0 = 120\n",
    "\n",
    "# Độ lệch chuẩn của điện áp là 0.24V\n",
    "sigma = 0.24\n",
    "\n",
    "# Bước 2: Tính giá trị z\n",
    "z = (mean_home - mu_0) / (sigma / np.sqrt(n))\n",
    "\n",
    "# Bước 3: Tính giá trị tới hạn từ bảng z cho mức ý nghĩa 0.01 (alpha/2 = 0.005)\n",
    "z_critical = norm.ppf(1 - 0.005)  # Kiểm định hai phía\n",
    "\n",
    "# In kết quả\n",
    "print(f\"Trung bình điện áp tại các hộ gia đình: {mean_home:.4f}V\")\n",
    "print(f\"Giá trị z: {z:.4f}\")\n",
    "print(f\"Giá trị tới hạn z: ±{z_critical:.4f}\")\n",
    "\n",
    "# Bước 4: Quyết định kiểm định\n",
    "if abs(z) > z_critical:\n",
    "    print(\"Bác bỏ giả thuyết gốc: Mức điện áp tại các hộ gia đình không phải 120V.\")\n",
    "else:\n",
    "    print(\"Không bác bỏ giả thuyết gốc: Mức điện áp tại các hộ gia đình có thể là 120V.\")"
   ]
  },
  {
   "cell_type": "markdown",
   "metadata": {},
   "source": [
    "## Kiểm định đặc trưng kỳ vọng ($\\mu$) không biết ($\\sigma$)"
   ]
  },
  {
   "cell_type": "markdown",
   "metadata": {},
   "source": [
    "### Bài 8\n",
    "\n",
    "Dataset 19(__SCREWS__) chứa thông tin khảo sát chiều dài một số đinh ốc được cung cấp bởi công ty Crown Bolt (đơn vị inches)\n",
    "\n",
    "Trên bao bì của các đinh ốc do công ty sản xuất có ghi chiều dài của các đinh ốc là 3/4 inches. Sử dụng mẫu trên bạn hãy cho biết chiều dài của đinh ốc lấy từ mẫu thu nhận được từ dữ liệu trên có nhất quán với chiều dài ghi trên bao bì hay không? Kiểm định với mức ý nghĩa 5%"
   ]
  },
  {
   "cell_type": "code",
   "execution_count": 38,
   "metadata": {},
   "outputs": [
    {
     "name": "stdout",
     "output_type": "stream",
     "text": [
      "Trung bình chiều dài đinh ốc trong mẫu: 0.7466 inches\n",
      "Độ lệch chuẩn mẫu: 0.0124\n",
      "Giá trị t: -1.9185\n",
      "Giá trị tới hạn t: ±2.0106\n",
      "Không bác bỏ giả thuyết gốc: Chiều dài đinh ốc có thể là 0.75 inches.\n"
     ]
    }
   ],
   "source": [
    "df = pd.read_excel('19_SCREWS.xls') \n",
    "# Bước 1: Tính giá trị trung bình và độ lệch chuẩn của chiều dài đinh ốc trong mẫu\n",
    "n = len(df)  # Kích thước mẫu\n",
    "mean_length = df[df.columns[0]].mean()  # Trung bình chiều dài đinh ốc trong mẫu\n",
    "std_dev = df[df.columns[0]].std()  # Độ lệch chuẩn mẫu\n",
    "\n",
    "# Giả thuyết gốc: chiều dài kỳ vọng là 0.75 inches (mu_0 = 0.75)\n",
    "mu_0 = 0.75\n",
    "\n",
    "# Bước 2: Tính giá trị t\n",
    "t_stat = (mean_length - mu_0) / (std_dev / np.sqrt(n))\n",
    "\n",
    "# Bước 3: Tính giá trị tới hạn từ bảng t cho mức ý nghĩa 0.05 (alpha/2 = 0.025)\n",
    "df_t = n - 1  # Số bậc tự do\n",
    "t_critical = t.ppf(1 - 0.025, df_t)  # Kiểm định hai phía\n",
    "\n",
    "# In kết quả\n",
    "print(f\"Trung bình chiều dài đinh ốc trong mẫu: {mean_length:.4f} inches\")\n",
    "print(f\"Độ lệch chuẩn mẫu: {std_dev:.4f}\")\n",
    "print(f\"Giá trị t: {t_stat:.4f}\")\n",
    "print(f\"Giá trị tới hạn t: ±{t_critical:.4f}\")\n",
    "\n",
    "# Bước 4: Quyết định kiểm định\n",
    "if abs(t_stat) > t_critical:\n",
    "    print(\"Bác bỏ giả thuyết gốc: Chiều dài đinh ốc không phải 0.75 inches.\")\n",
    "else:\n",
    "    print(\"Không bác bỏ giả thuyết gốc: Chiều dài đinh ốc có thể là 0.75 inches.\")"
   ]
  },
  {
   "cell_type": "markdown",
   "metadata": {},
   "source": [
    "### Bài 9\n",
    "\n",
    "Dataset 2 __(BODYTEMP)__ chứa thông tin khảo sát nhiệt độ cơ thể từ một nhóm người vào cùng một thời điểm lúc 12h trưa.\n",
    "\n",
    "Có một phát biểu nói rằng, nhiệt độ cơ thể người đo lúc 12h trưa trong quần thể này là 98,6°\n",
    "\n",
    "Dựa vào mẫu trên, bạn hãy cho biết phát biểu trên đúng hay sai ở mức ý nghĩa là 5%."
   ]
  },
  {
   "cell_type": "code",
   "execution_count": null,
   "metadata": {},
   "outputs": [
    {
     "name": "stdout",
     "output_type": "stream",
     "text": [
      "Trung bình nhiệt độ cơ thể trong mẫu: 98.1962°F\n",
      "Độ lệch chuẩn mẫu: 0.6246\n",
      "Giá trị t: -6.6243\n",
      "Giá trị tới hạn t: ±1.9830\n",
      "Bác bỏ giả thuyết gốc: Nhiệt độ cơ thể không phải 98.6°.\n"
     ]
    }
   ],
   "source": [
    "df = pd.read_excel('02_BODYTEMP.xls') \n",
    "# Bước 1: Tính giá trị trung bình và độ lệch chuẩn của nhiệt độ cơ thể trong mẫu\n",
    "n = len(df)  # Kích thước mẫu\n",
    "mean_temp = df[df.columns[0]].mean()  \n",
    "std_dev = df[df.columns[0]].std() \n",
    "\n",
    "# Giả thuyết gốc: Nhiệt độ cơ thể trung bình là 98.6 (mu_0 = 98.6)\n",
    "mu_0 = 98.6\n",
    "\n",
    "# Bước 2: Tính giá trị t\n",
    "t_stat = (mean_temp - mu_0) / (std_dev / np.sqrt(n))\n",
    "\n",
    "# Bước 3: Tính giá trị tới hạn từ bảng t cho mức ý nghĩa 0.05 (alpha/2 = 0.025)\n",
    "df_t = n - 1  # Số bậc tự do\n",
    "t_critical = t.ppf(1 - 0.025, df_t)  # Kiểm định hai phía\n",
    "\n",
    "# In kết quả\n",
    "print(f\"Trung bình nhiệt độ cơ thể trong mẫu: {mean_temp:.4f}°F\")\n",
    "print(f\"Độ lệch chuẩn mẫu: {std_dev:.4f}\")\n",
    "print(f\"Giá trị t: {t_stat:.4f}\")\n",
    "print(f\"Giá trị tới hạn t: ±{t_critical:.4f}\")\n",
    "\n",
    "# Bước 4: Quyết định kiểm định\n",
    "if abs(t_stat) > t_critical:\n",
    "    print(\"Bác bỏ giả thuyết gốc: Nhiệt độ cơ thể không phải 98.6°.\")\n",
    "else:\n",
    "    print(\"Không bác bỏ giả thuyết gốc: Nhiệt độ cơ thể có thể là 98.6°.\")"
   ]
  },
  {
   "cell_type": "markdown",
   "metadata": {},
   "source": [
    "### Bài 10\n",
    "\n",
    "Tìm hiểu z_test, t_test trong python"
   ]
  },
  {
   "cell_type": "markdown",
   "metadata": {},
   "source": [
    "1. z_test <br>\n",
    "Z-test được sử dụng khi bạn có thông tin về độ lệch chuẩn của dân số hoặc khi kích thước mẫu đủ lớn (thường là n > 30). Z-test thường được sử dụng khi kiểm định về giả thuyết về trung bình của một mẫu hoặc sự khác biệt giữa hai mẫu.\n",
    "<br>\n"
   ]
  },
  {
   "cell_type": "code",
   "execution_count": null,
   "metadata": {},
   "outputs": [
    {
     "name": "stdout",
     "output_type": "stream",
     "text": [
      "Giá trị Z: 0.9428090415820635\n",
      "Giá trị tới hạn Z: ±1.959963984540054\n",
      "Không bác bỏ giả thuyết gốc.\n"
     ]
    }
   ],
   "source": [
    "#ví dụ\n",
    "sample_mean = 100  # Trung bình mẫu\n",
    "population_mean = 98  # Trung bình dân số giả thuyết\n",
    "population_std_dev = 15  # Độ lệch chuẩn dân số\n",
    "n = 50  # Kích thước mẫu\n",
    "\n",
    "# Tính giá trị Z\n",
    "z_value = (sample_mean - population_mean) / (population_std_dev / np.sqrt(n))\n",
    "\n",
    "# Tính giá trị tới hạn cho mức ý nghĩa 5% (alpha = 0.05)\n",
    "z_critical = norm.ppf(1 - 0.025)  # Kiểm định hai phía\n",
    "\n",
    "print(f\"Giá trị Z: {z_value}\")\n",
    "print(f\"Giá trị tới hạn Z: ±{z_critical}\")\n",
    "\n",
    "# Quyết định kiểm định\n",
    "if abs(z_value) > z_critical:\n",
    "    print(\"Bác bỏ giả thuyết gốc.\")\n",
    "else:\n",
    "    print(\"Không bác bỏ giả thuyết gốc.\")"
   ]
  },
  {
   "cell_type": "markdown",
   "metadata": {},
   "source": [
    "2. T-test\n",
    "T-test được sử dụng khi bạn không biết độ lệch chuẩn của dân số hoặc khi kích thước mẫu nhỏ (thường là n ≤ 30). T-test được sử dụng khi bạn kiểm tra giả thuyết về trung bình mẫu hoặc sự khác biệt giữa hai nhóm mà bạn không biết độ lệch chuẩn của dân số."
   ]
  },
  {
   "cell_type": "code",
   "execution_count": 43,
   "metadata": {},
   "outputs": [
    {
     "name": "stdout",
     "output_type": "stream",
     "text": [
      "Giá trị T: 0.8333333333333334\n",
      "Giá trị tới hạn T: ±2.0638985616280205\n",
      "Không bác bỏ giả thuyết gốc.\n"
     ]
    }
   ],
   "source": [
    "#vd\n",
    "sample_mean = 100  # Trung bình mẫu\n",
    "population_mean = 98  # Trung bình dân số giả thuyết\n",
    "sample_std_dev = 12  # Độ lệch chuẩn mẫu\n",
    "n = 25  # Kích thước mẫu\n",
    "\n",
    "# Tính giá trị T\n",
    "t_value = (sample_mean - population_mean) / (sample_std_dev / np.sqrt(n))\n",
    "\n",
    "# Tính giá trị tới hạn từ phân phối t\n",
    "df = n - 1  # Số bậc tự do\n",
    "t_critical = t.ppf(1 - 0.025, df)  # Kiểm định hai phía\n",
    "\n",
    "print(f\"Giá trị T: {t_value}\")\n",
    "print(f\"Giá trị tới hạn T: ±{t_critical}\")\n",
    "\n",
    "# Quyết định kiểm định\n",
    "if abs(t_value) > t_critical:\n",
    "    print(\"Bác bỏ giả thuyết gốc.\")\n",
    "else:\n",
    "    print(\"Không bác bỏ giả thuyết gốc.\")"
   ]
  },
  {
   "cell_type": "markdown",
   "metadata": {},
   "source": [
    "So sánh Z-test và T-test: <br>\n",
    "Z-test <br>\n",
    "Sử dụng khi kích thước mẫu lớn (n > 30) <br>\t\n",
    "Sử dụng khi biết độ lệch chuẩn của dân số (𝜎)<nr>\t\n",
    "Phân phối chuẩn (normal distribution)\t\n",
    "\n",
    "<br>\n",
    "T-test <br>\n",
    "Sử dụng khi kích thước mẫu nhỏ (n ≤ 30) <br>\n",
    "Sử dụng khi không biết độ lệch chuẩn của dân số, chỉ có độ lệch chuẩn mẫu (s) <br>\n",
    "Phân phối t (t-distribution)"
   ]
  },
  {
   "cell_type": "markdown",
   "metadata": {},
   "source": [
    "---"
   ]
  }
 ],
 "metadata": {
  "kernelspec": {
   "display_name": "Python 3",
   "language": "python",
   "name": "python3"
  },
  "language_info": {
   "codemirror_mode": {
    "name": "ipython",
    "version": 3
   },
   "file_extension": ".py",
   "mimetype": "text/x-python",
   "name": "python",
   "nbconvert_exporter": "python",
   "pygments_lexer": "ipython3",
   "version": "3.12.5"
  }
 },
 "nbformat": 4,
 "nbformat_minor": 2
}
