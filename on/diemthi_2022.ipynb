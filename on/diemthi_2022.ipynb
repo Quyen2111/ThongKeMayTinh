{
  "cells": [
    {
      "cell_type": "markdown",
      "metadata": {
        "colab_type": "text",
        "id": "view-in-github"
      },
      "source": [
        "<a href=\"https://colab.research.google.com/github/DanhOMO/ThongKeMayTinh/blob/main/diemthi_2022.ipynb\" target=\"_parent\"><img src=\"https://colab.research.google.com/assets/colab-badge.svg\" alt=\"Open In Colab\"/></a>"
      ]
    },
    {
      "cell_type": "code",
      "execution_count": null,
      "metadata": {
        "colab": {
          "base_uri": "https://localhost:8080/",
          "height": 423
        },
        "id": "HUcaAtaCjxx-",
        "outputId": "391641ae-0432-4c46-9731-b3dd1de74470"
      },
      "outputs": [
        {
          "data": {
            "text/html": [
              "<div>\n",
              "<style scoped>\n",
              "    .dataframe tbody tr th:only-of-type {\n",
              "        vertical-align: middle;\n",
              "    }\n",
              "\n",
              "    .dataframe tbody tr th {\n",
              "        vertical-align: top;\n",
              "    }\n",
              "\n",
              "    .dataframe thead th {\n",
              "        text-align: right;\n",
              "    }\n",
              "</style>\n",
              "<table border=\"1\" class=\"dataframe\">\n",
              "  <thead>\n",
              "    <tr style=\"text-align: right;\">\n",
              "      <th></th>\n",
              "      <th>sbd</th>\n",
              "      <th>toan</th>\n",
              "      <th>ngu_van</th>\n",
              "      <th>ngoai_ngu</th>\n",
              "      <th>vat_li</th>\n",
              "      <th>hoa_hoc</th>\n",
              "      <th>sinh_hoc</th>\n",
              "      <th>lich_su</th>\n",
              "      <th>dia_li</th>\n",
              "      <th>gdcd</th>\n",
              "    </tr>\n",
              "  </thead>\n",
              "  <tbody>\n",
              "    <tr>\n",
              "      <th>0</th>\n",
              "      <td>1000001</td>\n",
              "      <td>3.6</td>\n",
              "      <td>5.00</td>\n",
              "      <td>4.0</td>\n",
              "      <td>NaN</td>\n",
              "      <td>NaN</td>\n",
              "      <td>NaN</td>\n",
              "      <td>2.75</td>\n",
              "      <td>6.00</td>\n",
              "      <td>8.75</td>\n",
              "    </tr>\n",
              "    <tr>\n",
              "      <th>1</th>\n",
              "      <td>1000002</td>\n",
              "      <td>8.4</td>\n",
              "      <td>6.75</td>\n",
              "      <td>7.6</td>\n",
              "      <td>NaN</td>\n",
              "      <td>NaN</td>\n",
              "      <td>NaN</td>\n",
              "      <td>8.50</td>\n",
              "      <td>7.50</td>\n",
              "      <td>8.25</td>\n",
              "    </tr>\n",
              "    <tr>\n",
              "      <th>2</th>\n",
              "      <td>1000003</td>\n",
              "      <td>5.8</td>\n",
              "      <td>7.50</td>\n",
              "      <td>5.0</td>\n",
              "      <td>NaN</td>\n",
              "      <td>NaN</td>\n",
              "      <td>NaN</td>\n",
              "      <td>7.25</td>\n",
              "      <td>5.50</td>\n",
              "      <td>8.75</td>\n",
              "    </tr>\n",
              "    <tr>\n",
              "      <th>3</th>\n",
              "      <td>1000004</td>\n",
              "      <td>7.4</td>\n",
              "      <td>7.50</td>\n",
              "      <td>8.6</td>\n",
              "      <td>NaN</td>\n",
              "      <td>NaN</td>\n",
              "      <td>NaN</td>\n",
              "      <td>7.50</td>\n",
              "      <td>6.50</td>\n",
              "      <td>7.50</td>\n",
              "    </tr>\n",
              "    <tr>\n",
              "      <th>4</th>\n",
              "      <td>1000005</td>\n",
              "      <td>7.2</td>\n",
              "      <td>8.50</td>\n",
              "      <td>9.0</td>\n",
              "      <td>NaN</td>\n",
              "      <td>NaN</td>\n",
              "      <td>NaN</td>\n",
              "      <td>8.00</td>\n",
              "      <td>8.50</td>\n",
              "      <td>8.25</td>\n",
              "    </tr>\n",
              "    <tr>\n",
              "      <th>...</th>\n",
              "      <td>...</td>\n",
              "      <td>...</td>\n",
              "      <td>...</td>\n",
              "      <td>...</td>\n",
              "      <td>...</td>\n",
              "      <td>...</td>\n",
              "      <td>...</td>\n",
              "      <td>...</td>\n",
              "      <td>...</td>\n",
              "      <td>...</td>\n",
              "    </tr>\n",
              "    <tr>\n",
              "      <th>995436</th>\n",
              "      <td>64006584</td>\n",
              "      <td>8.4</td>\n",
              "      <td>6.75</td>\n",
              "      <td>4.6</td>\n",
              "      <td>NaN</td>\n",
              "      <td>NaN</td>\n",
              "      <td>NaN</td>\n",
              "      <td>6.50</td>\n",
              "      <td>6.75</td>\n",
              "      <td>9.00</td>\n",
              "    </tr>\n",
              "    <tr>\n",
              "      <th>995437</th>\n",
              "      <td>64006585</td>\n",
              "      <td>5.6</td>\n",
              "      <td>6.50</td>\n",
              "      <td>2.8</td>\n",
              "      <td>NaN</td>\n",
              "      <td>NaN</td>\n",
              "      <td>NaN</td>\n",
              "      <td>6.25</td>\n",
              "      <td>6.75</td>\n",
              "      <td>8.50</td>\n",
              "    </tr>\n",
              "    <tr>\n",
              "      <th>995438</th>\n",
              "      <td>64006586</td>\n",
              "      <td>5.8</td>\n",
              "      <td>6.00</td>\n",
              "      <td>6.6</td>\n",
              "      <td>NaN</td>\n",
              "      <td>NaN</td>\n",
              "      <td>NaN</td>\n",
              "      <td>7.25</td>\n",
              "      <td>8.00</td>\n",
              "      <td>8.00</td>\n",
              "    </tr>\n",
              "    <tr>\n",
              "      <th>995439</th>\n",
              "      <td>64006587</td>\n",
              "      <td>7.6</td>\n",
              "      <td>6.75</td>\n",
              "      <td>7.0</td>\n",
              "      <td>NaN</td>\n",
              "      <td>NaN</td>\n",
              "      <td>NaN</td>\n",
              "      <td>8.75</td>\n",
              "      <td>7.25</td>\n",
              "      <td>9.75</td>\n",
              "    </tr>\n",
              "    <tr>\n",
              "      <th>995440</th>\n",
              "      <td>64006588</td>\n",
              "      <td>6.6</td>\n",
              "      <td>4.50</td>\n",
              "      <td>3.2</td>\n",
              "      <td>NaN</td>\n",
              "      <td>NaN</td>\n",
              "      <td>NaN</td>\n",
              "      <td>3.00</td>\n",
              "      <td>6.00</td>\n",
              "      <td>7.50</td>\n",
              "    </tr>\n",
              "  </tbody>\n",
              "</table>\n",
              "<p>995441 rows × 10 columns</p>\n",
              "</div>"
            ],
            "text/plain": [
              "             sbd  toan  ngu_van  ngoai_ngu  vat_li  hoa_hoc  sinh_hoc  \\\n",
              "0        1000001   3.6     5.00        4.0     NaN      NaN       NaN   \n",
              "1        1000002   8.4     6.75        7.6     NaN      NaN       NaN   \n",
              "2        1000003   5.8     7.50        5.0     NaN      NaN       NaN   \n",
              "3        1000004   7.4     7.50        8.6     NaN      NaN       NaN   \n",
              "4        1000005   7.2     8.50        9.0     NaN      NaN       NaN   \n",
              "...          ...   ...      ...        ...     ...      ...       ...   \n",
              "995436  64006584   8.4     6.75        4.6     NaN      NaN       NaN   \n",
              "995437  64006585   5.6     6.50        2.8     NaN      NaN       NaN   \n",
              "995438  64006586   5.8     6.00        6.6     NaN      NaN       NaN   \n",
              "995439  64006587   7.6     6.75        7.0     NaN      NaN       NaN   \n",
              "995440  64006588   6.6     4.50        3.2     NaN      NaN       NaN   \n",
              "\n",
              "        lich_su  dia_li  gdcd  \n",
              "0          2.75    6.00  8.75  \n",
              "1          8.50    7.50  8.25  \n",
              "2          7.25    5.50  8.75  \n",
              "3          7.50    6.50  7.50  \n",
              "4          8.00    8.50  8.25  \n",
              "...         ...     ...   ...  \n",
              "995436     6.50    6.75  9.00  \n",
              "995437     6.25    6.75  8.50  \n",
              "995438     7.25    8.00  8.00  \n",
              "995439     8.75    7.25  9.75  \n",
              "995440     3.00    6.00  7.50  \n",
              "\n",
              "[995441 rows x 10 columns]"
            ]
          },
          "execution_count": 5,
          "metadata": {},
          "output_type": "execute_result"
        }
      ],
      "source": [
        "import pandas as pd\n",
        "df = pd.read_csv(\"../data/diem_thi_thpt_2022.csv\")\n",
        "df"
      ]
    },
    {
      "cell_type": "code",
      "execution_count": 8,
      "metadata": {
        "colab": {
          "base_uri": "https://localhost:8080/"
        },
        "id": "lve2bGpsnuBx",
        "outputId": "21fabdaf-6c4e-4478-d3ef-f1de8f7512e7"
      },
      "outputs": [
        {
          "name": "stdout",
          "output_type": "stream",
          "text": [
            "             sbd  toan  ngu_van  ngoai_ngu  vat_li  hoa_hoc  sinh_hoc  \\\n",
            "0        1000001   3.6     5.00        4.0     NaN      NaN       NaN   \n",
            "1        1000002   8.4     6.75        7.6     NaN      NaN       NaN   \n",
            "2        1000003   5.8     7.50        5.0     NaN      NaN       NaN   \n",
            "3        1000004   7.4     7.50        8.6     NaN      NaN       NaN   \n",
            "4        1000005   7.2     8.50        9.0     NaN      NaN       NaN   \n",
            "5        1000006   6.8     8.50        9.4     NaN      NaN       NaN   \n",
            "6        1000007   7.2     6.00        5.0     NaN      NaN       NaN   \n",
            "7        1000008   8.0     8.00        8.0     NaN      NaN       NaN   \n",
            "8        1000009   2.6     5.25        NaN     NaN      NaN       NaN   \n",
            "9        1000010   8.8     8.00        7.0     NaN      NaN       NaN   \n",
            "995431  64006579   6.4     7.00        3.6     NaN      NaN       NaN   \n",
            "995432  64006580   6.0     6.25        2.2     NaN      NaN       NaN   \n",
            "995433  64006581   6.6     6.00        4.2     NaN      NaN       NaN   \n",
            "995434  64006582   5.2     6.50        1.8     NaN      NaN       NaN   \n",
            "995435  64006583   5.0     6.50        3.8     NaN      NaN       NaN   \n",
            "995436  64006584   8.4     6.75        4.6     NaN      NaN       NaN   \n",
            "995437  64006585   5.6     6.50        2.8     NaN      NaN       NaN   \n",
            "995438  64006586   5.8     6.00        6.6     NaN      NaN       NaN   \n",
            "995439  64006587   7.6     6.75        7.0     NaN      NaN       NaN   \n",
            "995440  64006588   6.6     4.50        3.2     NaN      NaN       NaN   \n",
            "\n",
            "        lich_su  dia_li  gdcd  \n",
            "0          2.75    6.00  8.75  \n",
            "1          8.50    7.50  8.25  \n",
            "2          7.25    5.50  8.75  \n",
            "3          7.50    6.50  7.50  \n",
            "4          8.00    8.50  8.25  \n",
            "5          7.00    7.50  9.25  \n",
            "6          8.00    7.50  9.00  \n",
            "7          5.25    7.00  7.00  \n",
            "8          5.25    6.75   NaN  \n",
            "9          6.50    6.50  6.75  \n",
            "995431     5.00    6.00  6.75  \n",
            "995432     5.00    4.50  7.00  \n",
            "995433     6.00    6.75  7.75  \n",
            "995434     4.00    5.50  7.50  \n",
            "995435     6.75    7.50  8.50  \n",
            "995436     6.50    6.75  9.00  \n",
            "995437     6.25    6.75  8.50  \n",
            "995438     7.25    8.00  8.00  \n",
            "995439     8.75    7.25  9.75  \n",
            "995440     3.00    6.00  7.50  \n"
          ]
        }
      ],
      "source": [
        "print(pd.concat([df.head(10), df.tail(10)]))"
      ]
    },
    {
      "cell_type": "code",
      "execution_count": 10,
      "metadata": {
        "colab": {
          "base_uri": "https://localhost:8080/"
        },
        "id": "R3pMcHF6oJGW",
        "outputId": "ae36756a-3a0f-43df-917e-8af1b8b17c3d"
      },
      "outputs": [
        {
          "data": {
            "text/plain": [
              "(995441, 10)"
            ]
          },
          "execution_count": 10,
          "metadata": {},
          "output_type": "execute_result"
        }
      ],
      "source": [
        "df.shape"
      ]
    },
    {
      "cell_type": "code",
      "execution_count": 12,
      "metadata": {
        "colab": {
          "base_uri": "https://localhost:8080/"
        },
        "id": "MCfaLepwoLYh",
        "outputId": "e0d312d7-1f87-4e36-d328-d3f41f3a9c75"
      },
      "outputs": [
        {
          "name": "stdout",
          "output_type": "stream",
          "text": [
            "<class 'pandas.core.frame.DataFrame'>\n",
            "RangeIndex: 995441 entries, 0 to 995440\n",
            "Data columns (total 10 columns):\n",
            " #   Column     Non-Null Count   Dtype  \n",
            "---  ------     --------------   -----  \n",
            " 0   sbd        995441 non-null  int64  \n",
            " 1   toan       982726 non-null  float64\n",
            " 2   ngu_van    981407 non-null  float64\n",
            " 3   ngoai_ngu  870609 non-null  float64\n",
            " 4   vat_li     325523 non-null  float64\n",
            " 5   hoa_hoc    327367 non-null  float64\n",
            " 6   sinh_hoc   322198 non-null  float64\n",
            " 7   lich_su    659662 non-null  float64\n",
            " 8   dia_li     657421 non-null  float64\n",
            " 9   gdcd       554343 non-null  float64\n",
            "dtypes: float64(9), int64(1)\n",
            "memory usage: 75.9 MB\n"
          ]
        }
      ],
      "source": [
        "df.info()"
      ]
    },
    {
      "cell_type": "code",
      "execution_count": 16,
      "metadata": {
        "colab": {
          "base_uri": "https://localhost:8080/"
        },
        "id": "jUzy_6UgoNaJ",
        "outputId": "55a7d09d-ad88-4c22-eae7-f60ea6635672"
      },
      "outputs": [
        {
          "name": "stdout",
          "output_type": "stream",
          "text": [
            "14034\n",
            "124832\n"
          ]
        }
      ],
      "source": [
        "print(df[\"ngu_van\"].isnull().sum())\n",
        "print(df[\"ngoai_ngu\"].isnull().sum())"
      ]
    },
    {
      "cell_type": "code",
      "execution_count": 20,
      "metadata": {
        "colab": {
          "base_uri": "https://localhost:8080/"
        },
        "id": "aPIdvUgyo-6x",
        "outputId": "37b7bbfa-7063-4fab-e6b9-2d7ba67b36ba"
      },
      "outputs": [
        {
          "name": "stdout",
          "output_type": "stream",
          "text": [
            "6.466254072854491\n",
            "1.6754353321403415\n",
            "10.0\n"
          ]
        }
      ],
      "source": [
        "print(df[\"toan\"].mean(numeric_only=True))\n",
        "print(df[\"toan\"].std(numeric_only=True))\n",
        "print(df[\"toan\"].max(numeric_only=True) - df[\"toan\"].min(numeric_only=True))"
      ]
    },
    {
      "cell_type": "code",
      "execution_count": 60,
      "metadata": {
        "colab": {
          "base_uri": "https://localhost:8080/",
          "height": 441
        },
        "id": "8vt2GDH4qHiI",
        "outputId": "bc03654f-5498-4f87-a63a-5d7fe2337d63"
      },
      "outputs": [
        {
          "name": "stdout",
          "output_type": "stream",
          "text": [
            "Số học sinh thi khối KHTN: 329235\n",
            "Số học sinh thi khối KHXH: 660078\n"
          ]
        },
        {
          "data": {
            "image/png": "[encoded data removed]",
            "text/plain": [
              "<Figure size 640x480 with 1 Axes>"
            ]
          },
          "metadata": {},
          "output_type": "display_data"
        }
      ],
      "source": [
        "# Đếm số học sinh thi KHTN (có ít nhất một điểm ở Vật lý, Hóa học, Sinh học)\n",
        "count_khtn = df[['vat_li', 'hoa_hoc', 'sinh_hoc']].notna().any(axis=1).sum()\n",
        "\n",
        "# Đếm số học sinh thi KHXH (có ít nhất một điểm ở Lịch sử, Địa lý, GDCD)\n",
        "count_khxh = df[['lich_su', 'dia_li', 'gdcd']].notna().any(axis=1).sum()\n",
        "\n",
        "print(f\"Số học sinh thi khối KHTN: {count_khtn}\")\n",
        "print(f\"Số học sinh thi khối KHXH: {count_khxh}\")\n",
        "\n",
        "# Ve bieu do pie\n",
        "import matplotlib.pyplot as plt\n",
        "labels = ['Khối KHTN', 'Khối KHXH']\n",
        "sizes = [count_khtn, count_khxh]\n",
        "colors = ['#ff9999', '#66b3ff']\n",
        "explode = (0.1, 0)\n",
        "plt.pie(sizes, explode=explode, labels=labels)\n",
        "plt.show()"
      ]
    },
    {
      "cell_type": "code",
      "execution_count": 70,
      "metadata": {
        "colab": {
          "base_uri": "https://localhost:8080/"
        },
        "id": "fJ5faLQLwTF7",
        "outputId": "9b42509e-77ba-48f1-8ca5-016f8602e9b8"
      },
      "outputs": [
        {
          "name": "stdout",
          "output_type": "stream",
          "text": [
            "             sbd  toan  ngu_van  ngoai_ngu  vat_li  hoa_hoc  sinh_hoc  \\\n",
            "793102  48011217  10.0     6.25        9.4    8.25     4.25      4.00   \n",
            "15616    1015777  10.0     5.75        NaN    7.00     6.50      4.75   \n",
            "466151  26017925  10.0     7.50        9.4    9.50     7.00      7.00   \n",
            "102268   2005344  10.0     6.00        NaN    8.00     9.75      9.00   \n",
            "499676  28020828  10.0     7.75        7.6    9.25     9.25      5.25   \n",
            "294032  15000207  10.0     7.75        9.6    8.00     9.75      9.50   \n",
            "475354  27006879  10.0     7.25        6.0    9.50     9.25      7.00   \n",
            "139162   2042310  10.0     7.00        8.6    7.25    10.00      8.75   \n",
            "17690    1017880  10.0     5.00        9.2    7.00     8.25      6.75   \n",
            "558663  30005646  10.0     6.00        6.4    6.25     9.75      9.25   \n",
            "149423   2052657  10.0     6.50        7.0    8.25     8.75      6.75   \n",
            "520517  29004083  10.0     7.75        5.0    6.25     9.25      9.50   \n",
            "506818  28028012  10.0     8.50        8.0    8.25     9.50      9.25   \n",
            "359971  19000291  10.0     7.25        7.4    9.75     9.50      5.50   \n",
            "25064    1025302  10.0     8.00        7.6    9.25     8.75      6.00   \n",
            "102577   2005655  10.0     7.50        NaN    9.50     9.50      8.00   \n",
            "19477    1019676  10.0     6.25        9.8   10.00     8.25      7.00   \n",
            "599409  33009347  10.0     6.75        9.2    8.75     9.50      6.50   \n",
            "139324   2042472  10.0     7.75        8.8    6.75     9.50      9.50   \n",
            "12815    1012943  10.0     7.50        6.6    7.75     9.00      8.50   \n",
            "\n",
            "        lich_su  dia_li  gdcd  \n",
            "793102      NaN     NaN   NaN  \n",
            "15616       NaN     NaN   NaN  \n",
            "466151      NaN     NaN   NaN  \n",
            "102268      NaN     NaN   NaN  \n",
            "499676      NaN     NaN   NaN  \n",
            "294032      NaN     NaN   NaN  \n",
            "475354      NaN     NaN   NaN  \n",
            "139162      NaN     NaN   NaN  \n",
            "17690       NaN     NaN   NaN  \n",
            "558663      NaN     NaN   NaN  \n",
            "149423      NaN     NaN   NaN  \n",
            "520517      NaN     NaN   NaN  \n",
            "506818      NaN     NaN   NaN  \n",
            "359971      NaN     NaN   NaN  \n",
            "25064       NaN     NaN   NaN  \n",
            "102577      NaN     NaN   NaN  \n",
            "19477       NaN     NaN   NaN  \n",
            "599409      NaN     NaN   NaN  \n",
            "139324      NaN     NaN   NaN  \n",
            "12815       NaN     NaN   NaN  \n"
          ]
        }
      ],
      "source": [
        "print(df.sort_values(by ='toan', ascending=False).head(20))"
      ]
    },
    {
      "cell_type": "code",
      "execution_count": 67,
      "metadata": {
        "colab": {
          "base_uri": "https://localhost:8080/"
        },
        "id": "YwrT39ZZxcxm",
        "outputId": "a2426197-2d8f-4eba-f313-5109ce87b7be"
      },
      "outputs": [
        {
          "name": "stdout",
          "output_type": "stream",
          "text": [
            "             sbd  toan  ngu_van  ngoai_ngu  vat_li  hoa_hoc  sinh_hoc  \\\n",
            "19635    1019834   0.0     7.25        9.4     NaN      NaN       NaN   \n",
            "506743  28027937   0.0      NaN        NaN     NaN      NaN       NaN   \n",
            "871748  52009551   0.0     5.75        NaN     NaN      NaN       NaN   \n",
            "680311  39009635   0.2      NaN        NaN     NaN     0.25      4.75   \n",
            "809183  48027390   0.4     4.25        NaN     NaN      NaN       NaN   \n",
            "625579  35005460   0.4     2.00        2.2     NaN      NaN       NaN   \n",
            "278761  13004329   0.4     5.25        2.8     NaN      NaN       NaN   \n",
            "522038  29005631   0.6     4.25        2.2     NaN      NaN       NaN   \n",
            "687017  40005436   0.6     4.58        2.2     NaN      NaN       NaN   \n",
            "404526  22008620   0.6     3.00        NaN     NaN      NaN       NaN   \n",
            "692532  40010974   0.6     3.75        2.6     NaN      NaN       NaN   \n",
            "786503  48004585   0.6     4.00        NaN     NaN      NaN       NaN   \n",
            "289268  14006801   0.6     4.00        2.8     NaN      NaN       NaN   \n",
            "647422  37009299   0.8     5.25        4.0     NaN      NaN       NaN   \n",
            "576561  31006233   0.8     4.50        2.2     NaN      NaN       NaN   \n",
            "675529  39004825   0.8     5.50        3.8     NaN      NaN       NaN   \n",
            "833699  50005095   0.8     5.00        NaN     NaN      NaN       NaN   \n",
            "595313  33005228   0.8     1.50        NaN     NaN      NaN       NaN   \n",
            "256861  11000546   0.8     3.25        NaN     NaN      NaN       NaN   \n",
            "695065  40013510   0.8     6.25        2.0     NaN      NaN       NaN   \n",
            "\n",
            "        lich_su  dia_li  gdcd  \n",
            "19635      7.75    6.50  8.25  \n",
            "506743      NaN     NaN   NaN  \n",
            "871748     3.00    5.75   NaN  \n",
            "680311      NaN     NaN   NaN  \n",
            "809183     6.75    5.25   NaN  \n",
            "625579     7.25    5.25  5.25  \n",
            "278761     4.50    4.50  6.25  \n",
            "522038     3.50    3.50  6.00  \n",
            "687017     6.00    5.50  7.25  \n",
            "404526     5.25    5.50   NaN  \n",
            "692532     3.00    4.25  4.50  \n",
            "786503     3.75    4.00   NaN  \n",
            "289268     3.25    5.25  5.00  \n",
            "647422     5.75    5.00  6.00  \n",
            "576561     6.75    5.00  7.75  \n",
            "675529     4.75    6.25  6.50  \n",
            "833699     4.25    6.50   NaN  \n",
            "595313     3.25    5.50   NaN  \n",
            "256861     5.75    4.25   NaN  \n",
            "695065     5.00    4.75  7.75  \n"
          ]
        }
      ],
      "source": [
        "print(df.sort_values(by ='toan', ascending=True).head(20))"
      ]
    },
    {
      "cell_type": "code",
      "execution_count": 73,
      "metadata": {
        "colab": {
          "base_uri": "https://localhost:8080/"
        },
        "id": "jJPZN0jaxoc-",
        "outputId": "47284905-544d-406c-c46a-108c45a5f728"
      },
      "outputs": [
        {
          "name": "stdout",
          "output_type": "stream",
          "text": [
            "35\n"
          ]
        }
      ],
      "source": [
        " print((df[\"toan\"] == 10).sum())"
      ]
    },
    {
      "cell_type": "code",
      "execution_count": 76,
      "metadata": {
        "colab": {
          "base_uri": "https://localhost:8080/",
          "height": 445
        },
        "id": "kjNW53gRx57b",
        "outputId": "ca6b2c48-e10b-492d-8601-f04de6407223"
      },
      "outputs": [
        {
          "data": {
            "image/png": "[encoded data removed]",
            "text/plain": [
              "<Figure size 640x480 with 1 Axes>"
            ]
          },
          "metadata": {},
          "output_type": "display_data"
        }
      ],
      "source": [
        "# Tao bieu do bar cho du lieu Toan , Ngoai ngu , ngu van\n",
        "import matplotlib.pyplot as plt\n",
        "toan = df[\"toan\"].notna().sum()\n",
        "ngoai_ngu = df[\"ngoai_ngu\"].notna().sum()\n",
        "ngu_van = df[\"ngu_van\"].notna().sum()\n",
        "plt.bar([\"Toán\", \"Ngoại Ngữ\", \"Ngữ Văn\"], [toan, ngoai_ngu, ngu_van] )\n",
        "plt.show()\n"
      ]
    }
  ],
  "metadata": {
    "colab": {
      "authorship_tag": "ABX9TyMBnK3KqIvkKt0PGaPKlYW8",
      "include_colab_link": true,
      "provenance": []
    },
    "kernelspec": {
      "display_name": "Python 3",
      "name": "python3"
    },
    "language_info": {
      "codemirror_mode": {
        "name": "ipython",
        "version": 3
      },
      "file_extension": ".py",
      "mimetype": "text/x-python",
      "name": "python",
      "nbconvert_exporter": "python",
      "pygments_lexer": "ipython3",
      "version": "3.12.5"
    }
  },
  "nbformat": 4,
  "nbformat_minor": 0
}
