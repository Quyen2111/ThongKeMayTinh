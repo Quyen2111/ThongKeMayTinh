{
 "cells": [
  {
   "cell_type": "markdown",
   "metadata": {},
   "source": [
    "# Ôn tập giữa kỳ\n"
   ]
  },
  {
   "cell_type": "code",
   "execution_count": 75,
   "metadata": {},
   "outputs": [],
   "source": [
    "# Import các thư viện thông dụng\n",
    "import numpy as np\n",
    "import pandas as pd\n",
    "import matplotlib.pyplot as plt\n",
    "\n",
    "# Import các distribution packages từ thư viện scipy\n",
    "from scipy.stats import binom\n",
    "from scipy.stats import poisson\n",
    "from scipy.stats import norm\n",
    "from scipy.stats import t\n"
   ]
  },
  {
   "cell_type": "markdown",
   "metadata": {},
   "source": [
    "## ĐỀ BÀI\n",
    "\n",
    "Hệ thống giám sát rủi ro dựa trên hành vi (The Behavior Risk Factor Surveilance System - BRFSS) là một cuộc khảo sát qua điện thoại hàng năm với 350.000 người ở Hoa Kỳ. Như tên gọi của nó, BRFSS được thiết kế để xác định các yếu tố nguy cơ ở người trưởng thành và báo cáo các xu hướng sức khỏe mớ. Ví dụ, người trả lời được hỏi về chế độ ăn uống và hoạt động thể chất hàng tuần, tình trạng HIV/AIDS, khả năng sử dụng thuốc lá và thậm chí cả mức độ chi trả dịch vụ chăm sóc sức khỏe của họ. \n",
    "\n",
    "Bộ dữ liệu **brfss_2000** chứa thông tin khảo sát năm 2000, với hơn 200 thông tin. Trong bộ dữ liệu này, ta chỉ khảo sát một số thông tin sau:\n",
    "-\tgenhlth: người khảo sát tự đánh giá sức khỏe (excellent, very good, good, fair or poor)\n",
    "-\texerany: cho biết có hoạt động thể chất nào trong tháng gần nhất hay không, có (1), không (0)\n",
    "-\thlthplan: có bảo hiểm (1) hay không (0)\n",
    "-\tsmoke100: tổng số điếu thuốc đã hút ít nhất\n",
    "-\theight: chiều cao (inches)\n",
    "-\tweight: cân nặng (pounds)\n",
    "-\twtdesire:  cân nặng mong muốn(pounds)\n",
    "-\tage: tuổi\n",
    "-\tgender: giới tính: nam(m), nữ(f)\n"
   ]
  },
  {
   "cell_type": "markdown",
   "metadata": {},
   "source": [
    "### Câu 1:\n",
    "\n",
    "Đọc hai bộ dữ liệu trên và cho biết mỗi bộ dữ liệu có kích thước bao nhiêu dòng, bao nhiêu cột?"
   ]
  },
  {
   "cell_type": "code",
   "execution_count": 76,
   "metadata": {},
   "outputs": [
    {
     "name": "stdout",
     "output_type": "stream",
     "text": [
      "<class 'pandas.core.frame.DataFrame'>\n",
      "RangeIndex: 20000 entries, 0 to 19999\n",
      "Data columns (total 9 columns):\n",
      " #   Column    Non-Null Count  Dtype \n",
      "---  ------    --------------  ----- \n",
      " 0   exerany   20000 non-null  int64 \n",
      " 1   hlthplan  20000 non-null  int64 \n",
      " 2   smoke100  20000 non-null  int64 \n",
      " 3   height    20000 non-null  int64 \n",
      " 4   weight    20000 non-null  int64 \n",
      " 5   wtdesire  20000 non-null  int64 \n",
      " 6   age       20000 non-null  int64 \n",
      " 7   gender    20000 non-null  object\n",
      " 8   genhlth   20000 non-null  object\n",
      "dtypes: int64(7), object(2)\n",
      "memory usage: 1.4+ MB\n"
     ]
    }
   ],
   "source": [
    "df = pd.read_csv(\"brfss_2000.csv\")\n",
    "df.info()\n"
   ]
  },
  {
   "cell_type": "markdown",
   "metadata": {},
   "source": [
    "### Câu 2\n",
    "\n",
    "a, Tính tỷ lệ nam nữ\n",
    "\n",
    "b, Trong số những người tập thể thao, tỷ lệ những người tự đánh giá có sức khỏe kém là bao nhiêu?"
   ]
  },
  {
   "cell_type": "code",
   "execution_count": 77,
   "metadata": {},
   "outputs": [
    {
     "name": "stdout",
     "output_type": "stream",
     "text": [
      "Nam: 10431, Nữ: 9569\n",
      "genhlth\n",
      "very good    6972\n",
      "good         5675\n",
      "excellent    4657\n",
      "fair         2019\n",
      "poor          677\n",
      "Name: count, dtype: int64\n",
      "3.385\n"
     ]
    }
   ],
   "source": [
    "m,n = df['gender'].value_counts()\n",
    "print(f\"Nam: {m}, Nữ: {n}\")\n",
    "a,b,c,d,e = df['genhlth'].value_counts()\n",
    "print(df['genhlth'].value_counts())\n",
    "print(e/ df['genhlth'].count() * 100)"
   ]
  },
  {
   "cell_type": "markdown",
   "metadata": {},
   "source": [
    "### Câu 3\n",
    "\n",
    "a, Đổi đơn vị chiều cao từ inches sang centimet, đơn vị cân nặng từ pound sang kg.\n",
    "\n",
    "b, Tính tỷ lệ những người muốn giảm cân."
   ]
  },
  {
   "cell_type": "code",
   "execution_count": 78,
   "metadata": {},
   "outputs": [
    {
     "name": "stdout",
     "output_type": "stream",
     "text": [
      "giamcan\n",
      "True     12764\n",
      "False     7236\n",
      "Name: count, dtype: int64\n",
      "63.82\n"
     ]
    }
   ],
   "source": [
    "# Đổi từ inches sang centimet\n",
    "def inches_to_cm(inches):\n",
    "    return inches * 2.54\n",
    "\n",
    "# Đổi từ pound sang kg\n",
    "def pounds_to_kg(pounds):\n",
    "    return pounds * 0.453592\n",
    "\n",
    "# Chuyển đổi đơn vị\n",
    "df['height'] = df['height'].apply(inches_to_cm)\n",
    "df['weight'] = df['weight'].apply(pounds_to_kg)\n",
    "df['wtdesire'] = df['wtdesire'].apply(pounds_to_kg)\n",
    "\n",
    "# Tính toán cột giảm cân\n",
    "df['giamcan'] = df['weight'] > df['wtdesire']\n",
    "a,b = df['giamcan'].value_counts()\n",
    "print(df['giamcan'].value_counts())\n",
    "print(a / df['giamcan'].count() * 100)"
   ]
  },
  {
   "cell_type": "markdown",
   "metadata": {},
   "source": [
    "### Câu 4:\n",
    "\n",
    "a, Theo bạn trong các thuộc tính trên, thuộc tính nào có phân phối chuẩn. Vẽ hình minh họa\n",
    "\n",
    "b, Vẽ đồ thị boxplot so sánh cân nặng của những người có tập thể dục"
   ]
  },
  {
   "cell_type": "code",
   "execution_count": 79,
   "metadata": {},
   "outputs": [],
   "source": [
    "\n",
    "# 1. Phân phối Chuẩn (Normal Distribution)\n",
    "# Chiều cao, cân nặng của người trong một quần thể.\n",
    "# Điểm thi của học sinh trong một kỳ thi lớn.\n",
    "# Sai số đo lường trong thiết bị cảm biến.\n",
    "# Huyết áp, nhiệt độ cơ thể con người.\n",
    "\n",
    "# 2. Phân phối Nhị Thức (Binomial Distribution)\n",
    "# Số lần một sản phẩm bị lỗi trong 10 sản phẩm lấy ngẫu nhiên từ dây chuyền sản xuất.\n",
    "# Xác suất trúng xổ số khi mua 5 tấm vé.\n",
    "# Số học sinh đậu trong một kỳ thi nếu mỗi học sinh có xác suất đậu là \n",
    "# Số người đồng ý tham gia khảo sát trong số 100 người được hỏi.\n",
    "\n",
    "# 3. Phân phối Poisson (Poisson Distribution)\n",
    "# Số cuộc gọi đến tổng đài trong một giờ.\n",
    "# Số tai nạn giao thông xảy ra trong một ngày ở một thành phố.\n",
    "# Số lỗi phần mềm được phát hiện trong 1000 dòng code.\n",
    "# Số khách đến cửa hàng trong một giờ nhất định.1. Phân phối Chuẩn (Normal Distribution)\n",
    "# Đặc điểm: Dữ liệu liên tục, có xu hướng tập trung quanh giá trị trung bình, đối xứng hai bên.\n",
    "# Ví dụ:\n",
    "# Chiều cao, cân nặng của người trong một quần thể.\n",
    "# Điểm thi của học sinh trong một kỳ thi lớn.\n",
    "# Sai số đo lường trong thiết bị cảm biến.\n",
    "# Huyết áp, nhiệt độ cơ thể con người.\n"
   ]
  },
  {
   "cell_type": "markdown",
   "metadata": {},
   "source": [
    "\n",
    "### Câu 5\n",
    "\n",
    "Phân bố tuổi tác trong mẫu: Hãy mô tả phân bố tuổi của người tham gia khảo sát. Tuổi trung bình, độ lệch chuẩn, và các phân vị 25%, 50%, 75% là bao nhiêu?\n",
    "\n"
   ]
  },
  {
   "cell_type": "code",
   "execution_count": 80,
   "metadata": {},
   "outputs": [
    {
     "data": {
      "image/png": "[encoded data removed]",
      "text/plain": [
       "<Figure size 640x480 with 1 Axes>"
      ]
     },
     "metadata": {},
     "output_type": "display_data"
    },
    {
     "name": "stdout",
     "output_type": "stream",
     "text": [
      "Tuổi trung bình: 45.06825\n",
      "Độ lệch chuẩn: 17.19268947448503\n",
      "Phân vị 25%: 31.0\n",
      "Phân vị 50% (Median): 43.0\n",
      "Phân vị 75%: 57.0\n"
     ]
    }
   ],
   "source": [
    "# Phân bố tuổi\n",
    "plt.hist(df['age'], bins=20, edgecolor='k', alpha=0.7)\n",
    "plt.title('Phân bố tuổi của người tham gia')\n",
    "plt.xlabel('Tuổi')\n",
    "plt.ylabel('Tần suất')\n",
    "plt.show()\n",
    "\n",
    "# Các thống kê mô tả\n",
    "mean_age = df['age'].mean()\n",
    "std_age = df['age'].std()\n",
    "percentiles = df['age'].quantile([0.25, 0.5, 0.75])\n",
    "\n",
    "print(f\"Tuổi trung bình: {mean_age}\")\n",
    "print(f\"Độ lệch chuẩn: {std_age}\")\n",
    "print(f\"Phân vị 25%: {percentiles[0.25]}\")\n",
    "print(f\"Phân vị 50% (Median): {percentiles[0.5]}\")\n",
    "print(f\"Phân vị 75%: {percentiles[0.75]}\")\n"
   ]
  },
  {
   "cell_type": "markdown",
   "metadata": {},
   "source": [
    "### Câu 6\n",
    "\n",
    "Tỉ lệ người hút thuốc: Tính tỉ lệ phần trăm người tham gia khảo sát hiện đang hút thuốc lá. Liệu có sự khác biệt đáng kể về tỉ lệ này giữa các nhóm tuổi khác nhau không?\n",
    "\n"
   ]
  },
  {
   "cell_type": "code",
   "execution_count": 81,
   "metadata": {},
   "outputs": [
    {
     "name": "stdout",
     "output_type": "stream",
     "text": [
      "smoke100\n",
      "0    10559\n",
      "1     9441\n",
      "Name: count, dtype: int64\n"
     ]
    },
    {
     "data": {
      "image/png": "[encoded data removed]",
      "text/plain": [
       "<Figure size 640x480 with 1 Axes>"
      ]
     },
     "metadata": {},
     "output_type": "display_data"
    }
   ],
   "source": [
    "print(df['smoke100'].value_counts())\n",
    "plt.hist(df[['age', 'smoke100']], bins=20)\n",
    "plt.legend(['co', 'tong'])\n",
    "plt.show()"
   ]
  },
  {
   "cell_type": "markdown",
   "metadata": {},
   "source": [
    "### Câu 7\n",
    "\n",
    "BMI trung bình theo giới tính: Tính chỉ số BMI trung bình cho nam và nữ trong mẫu. \n",
    "\n"
   ]
  },
  {
   "cell_type": "code",
   "execution_count": null,
   "metadata": {},
   "outputs": [],
   "source": []
  },
  {
   "cell_type": "markdown",
   "metadata": {},
   "source": [
    "### câu 8\n",
    "\n",
    "Phân tích tỉ lệ bệnh béo phì: Sử dụng các tiêu chuẩn của CDC về chỉ số BMI để phân loại người tham gia vào nhóm béo phì. Tính tỉ lệ béo phì theo giới tính và độ tuổi. "
   ]
  },
  {
   "cell_type": "code",
   "execution_count": null,
   "metadata": {},
   "outputs": [],
   "source": []
  },
  {
   "cell_type": "code",
   "execution_count": 82,
   "metadata": {},
   "outputs": [
    {
     "name": "stdout",
     "output_type": "stream",
     "text": [
      "0        1\n",
      "1        0\n",
      "2        0\n",
      "3        0\n",
      "4        1\n",
      "        ..\n",
      "19995    0\n",
      "19996    0\n",
      "19997    1\n",
      "19998    1\n",
      "19999    1\n",
      "Name: age, Length: 20000, dtype: int64\n",
      "       exerany  hlthplan  smoke100  height     weight   wtdesire  age gender   \n",
      "8376         1         1         0  187.96  90.718400  86.182480   18      m  \\\n",
      "6899         1         1         0  175.26  81.646560  68.038800   18      f   \n",
      "16093        1         1         0  182.88  68.038800  68.038800   18      m   \n",
      "6919         1         1         0  170.18  49.895120  49.895120   18      f   \n",
      "12315        1         1         0  167.64  74.842680  74.842680   18      f   \n",
      "...        ...       ...       ...     ...        ...        ...  ...    ...   \n",
      "11911        0         1         0  157.48  49.895120  49.895120   95      f   \n",
      "17050        1         1         1  162.56  58.059776  58.059776   96      f   \n",
      "10349        1         1         1  152.40  58.966960  58.966960   97      f   \n",
      "6709         1         1         1  157.48  54.431040  52.163080   99      f   \n",
      "899          0         1         0  177.80  68.038800  68.038800   99      f   \n",
      "\n",
      "         genhlth  giamcan  x2Age   x3age  ageLe  \n",
      "8376        good     True    324    5832     18  \n",
      "6899   very good     True    324    5832     18  \n",
      "16093       fair    False    324    5832     18  \n",
      "6919   very good    False    324    5832     18  \n",
      "12315  very good    False    324    5832     18  \n",
      "...          ...      ...    ...     ...    ...  \n",
      "11911  very good    False   9025  857375      0  \n",
      "17050       good    False   9216  884736     96  \n",
      "10349       good    False   9409  912673      0  \n",
      "6709   excellent     True   9801  970299      0  \n",
      "899    very good    False   9801  970299      0  \n",
      "\n",
      "[20000 rows x 13 columns]\n"
     ]
    }
   ],
   "source": [
    "print(df['age'].apply(lambda x: 1 if x >50 else 0))\n",
    "df['x2Age'] = df['age'].apply(lambda x: x**2)\n",
    "df['x3age']  = [x**3 for x in df['age']]\n",
    "df['ageLe'] = df['age'].apply(lambda x: x if x %2 ==0 else 0)\n",
    "# Sắp xếp tuổi\n",
    "print(df.sort_values(by='age', ascending=True))\n"
   ]
  },
  {
   "cell_type": "markdown",
   "metadata": {},
   "source": [
    "---"
   ]
  }
 ],
 "metadata": {
  "kernelspec": {
   "display_name": "Python 3",
   "language": "python",
   "name": "python3"
  },
  "language_info": {
   "codemirror_mode": {
    "name": "ipython",
    "version": 3
   },
   "file_extension": ".py",
   "mimetype": "text/x-python",
   "name": "python",
   "nbconvert_exporter": "python",
   "pygments_lexer": "ipython3",
   "version": "3.10.8"
  }
 },
 "nbformat": 4,
 "nbformat_minor": 2
}
